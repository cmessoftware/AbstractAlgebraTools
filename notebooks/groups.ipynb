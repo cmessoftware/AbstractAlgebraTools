{
 "cells": [
  {
   "cell_type": "code",
   "execution_count": 14,
   "metadata": {},
   "outputs": [
    {
     "data": {
      "text/plain": [
       "[2, 4, 6, 8, 10, 12, 14, 16, 18, 20]"
      ]
     },
     "execution_count": 14,
     "metadata": {},
     "output_type": "execute_result"
    }
   ],
   "source": [
    "a = [2*i for i in range(1,11)]\n",
    "a\n"
   ]
  },
  {
   "cell_type": "code",
   "execution_count": 16,
   "metadata": {},
   "outputs": [
    {
     "ename": "AttributeError",
     "evalue": "'list' object has no attribute 'n'",
     "output_type": "error",
     "traceback": [
      "\u001b[0;31m---------------------------------------------------------------------------\u001b[0m",
      "\u001b[0;31mAttributeError\u001b[0m                            Traceback (most recent call last)",
      "Cell \u001b[0;32mIn[16], line 7\u001b[0m\n\u001b[1;32m      5\u001b[0m G \u001b[38;5;241m=\u001b[39m zn_group(n)\n\u001b[1;32m      6\u001b[0m H \u001b[38;5;241m=\u001b[39m [i \u001b[38;5;28;01mfor\u001b[39;00m i \u001b[38;5;129;01min\u001b[39;00m \u001b[38;5;28mrange\u001b[39m(\u001b[38;5;241m1\u001b[39m,\u001b[38;5;241m11\u001b[39m)]\n\u001b[0;32m----> 7\u001b[0m a \u001b[38;5;241m=\u001b[39m \u001b[43mG\u001b[49m\u001b[38;5;241;43m.\u001b[39;49m\u001b[43mis_isomorphic\u001b[49m\u001b[43m(\u001b[49m\u001b[43mG\u001b[49m\u001b[43m,\u001b[49m\u001b[43mH\u001b[49m\u001b[43m)\u001b[49m\n\u001b[1;32m      8\u001b[0m a\n",
      "File \u001b[0;32m~/source/abstract_math_tools/notebooks/../src/group_theory/zn_group.py:12\u001b[0m, in \u001b[0;36mzn_group.is_isomorphic\u001b[0;34m(self, G, H)\u001b[0m\n\u001b[1;32m     11\u001b[0m \u001b[38;5;28;01mdef\u001b[39;00m \u001b[38;5;21mis_isomorphic\u001b[39m(\u001b[38;5;28mself\u001b[39m,G,H):\n\u001b[0;32m---> 12\u001b[0m     \u001b[38;5;28;01mif\u001b[39;00m \u001b[38;5;28;43mself\u001b[39;49m\u001b[38;5;241;43m.\u001b[39;49m\u001b[43morder\u001b[49m\u001b[43m(\u001b[49m\u001b[43mH\u001b[49m\u001b[43m)\u001b[49m \u001b[38;5;241m!=\u001b[39m \u001b[38;5;28mself\u001b[39m\u001b[38;5;241m.\u001b[39morder(G):\n\u001b[1;32m     13\u001b[0m         \u001b[38;5;28;01mreturn\u001b[39;00m \u001b[38;5;28;01mFalse\u001b[39;00m\n\u001b[1;32m     14\u001b[0m     \u001b[38;5;28;01mif\u001b[39;00m \u001b[38;5;129;01mnot\u001b[39;00m has_unique_numbers(H):\n",
      "File \u001b[0;32m~/source/abstract_math_tools/notebooks/../src/group_theory/zn_group.py:31\u001b[0m, in \u001b[0;36mzn_group.order\u001b[0;34m(self, G)\u001b[0m\n\u001b[1;32m     30\u001b[0m \u001b[38;5;28;01mdef\u001b[39;00m \u001b[38;5;21morder\u001b[39m(\u001b[38;5;28mself\u001b[39m,G):\n\u001b[0;32m---> 31\u001b[0m     \u001b[38;5;28;01mreturn\u001b[39;00m \u001b[43mG\u001b[49m\u001b[38;5;241;43m.\u001b[39;49m\u001b[43mn\u001b[49m\n",
      "\u001b[0;31mAttributeError\u001b[0m: 'list' object has no attribute 'n'"
     ]
    }
   ],
   "source": [
    "\n",
    "import sys\n",
    "sys.path.append(\"..\") \n",
    "from src.group_theory.zn_group import zn_group\n",
    "n = 4\n",
    "G = zn_group(n)\n",
    "H = [i for i in range(1,11)]\n",
    "a = G.is_isomorphic(G,H)\n",
    "a\n"
   ]
  },
  {
   "cell_type": "code",
   "execution_count": 17,
   "metadata": {},
   "outputs": [
    {
     "ename": "TypeError",
     "evalue": "zn_group.is_normal() missing 1 required positional argument: 'H'",
     "output_type": "error",
     "traceback": [
      "\u001b[0;31m---------------------------------------------------------------------------\u001b[0m",
      "\u001b[0;31mTypeError\u001b[0m                                 Traceback (most recent call last)",
      "Cell \u001b[0;32mIn[17], line 6\u001b[0m\n\u001b[1;32m      3\u001b[0m n \u001b[38;5;241m=\u001b[39m \u001b[38;5;241m4\u001b[39m\n\u001b[1;32m      4\u001b[0m H \u001b[38;5;241m=\u001b[39m [\u001b[38;5;241m2\u001b[39m\u001b[38;5;241m*\u001b[39mi \u001b[38;5;28;01mfor\u001b[39;00m i \u001b[38;5;129;01min\u001b[39;00m \u001b[38;5;28mrange\u001b[39m(\u001b[38;5;241m1\u001b[39m,n\u001b[38;5;241m+\u001b[39m\u001b[38;5;241m1\u001b[39m)]\n\u001b[0;32m----> 6\u001b[0m z \u001b[38;5;241m=\u001b[39m \u001b[43mzn_group\u001b[49m\u001b[38;5;241;43m.\u001b[39;49m\u001b[43mis_normal\u001b[49m\u001b[43m(\u001b[49m\u001b[43mH\u001b[49m\u001b[43m)\u001b[49m\n\u001b[1;32m      7\u001b[0m z\n",
      "\u001b[0;31mTypeError\u001b[0m: zn_group.is_normal() missing 1 required positional argument: 'H'"
     ]
    }
   ],
   "source": [
    "from src.group_theory.zn_group import zn_group\n",
    "\n",
    "n = 4\n",
    "H = [2*i for i in range(1,n+1)]\n",
    "\n",
    "z = zn_group.is_normal(H)\n",
    "z\n",
    "    "
   ]
  },
  {
   "cell_type": "code",
   "execution_count": 25,
   "metadata": {},
   "outputs": [
    {
     "data": {
      "text/plain": [
       "{0: 1, 10: 2, 17: 4, 34: 2, 33: 4, 269: 4, 52: 2, 639: 4}"
      ]
     },
     "execution_count": 25,
     "metadata": {},
     "output_type": "execute_result"
    }
   ],
   "source": [
    "def order_element(e,G,n):\n",
    "       if e == 0:\n",
    "              return 1\n",
    "       \n",
    "       order = 1\n",
    "       acum = e\n",
    "       x = 0\n",
    "       while x <= n:\n",
    "              if binary_operation(acum,e,n) != 0:\n",
    "                     order += 1\n",
    "                     acum += e\n",
    "              else:\n",
    "                     order += 1\n",
    "                     break\n",
    "       \n",
    "              x += 1 \n",
    "                     \n",
    "       return order\n",
    "                     \n",
    " \n",
    "def binary_operation(a,b,n):\n",
    "       return (a+b)%n\n",
    "\n",
    "n = 4\n",
    "elements = [0,10,17,34,33,269,52,639]\n",
    "G = [i for i in range(1,n+1)]\n",
    "result = {}\n",
    "for x in elements:\n",
    "       r = order_element(x,G,n)\n",
    "       result[x] = r\n",
    "       \n",
    "result\n"
   ]
  }
 ],
 "metadata": {
  "kernelspec": {
   "display_name": ".venv",
   "language": "python",
   "name": "python3"
  },
  "language_info": {
   "codemirror_mode": {
    "name": "ipython",
    "version": 3
   },
   "file_extension": ".py",
   "mimetype": "text/x-python",
   "name": "python",
   "nbconvert_exporter": "python",
   "pygments_lexer": "ipython3",
   "version": "3.10.12"
  }
 },
 "nbformat": 4,
 "nbformat_minor": 2
}
